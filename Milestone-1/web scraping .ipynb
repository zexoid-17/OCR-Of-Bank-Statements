{
 "cells": [
  {
   "cell_type": "code",
   "execution_count": 2,
   "id": "862cc8b9-d83c-4a8d-8f39-0381982e6c90",
   "metadata": {},
   "outputs": [
    {
     "name": "stdin",
     "output_type": "stream",
     "text": [
      "Enter the image URL  https://images.app.goo.gl/6bXNnLRA5rmWdqRKA\n"
     ]
    },
    {
     "name": "stdout",
     "output_type": "stream",
     "text": [
      "Image successfully downloaded as downloaded_image.jpg\n"
     ]
    }
   ],
   "source": [
    "import requests\n",
    "\n",
    "# Function to download an image from a URL\n",
    "def download_image(image_url, file_name=\"downloaded_image.jpg\"):\n",
    "    # Send a GET request to the URL\n",
    "    response = requests.get(image_url)\n",
    "    \n",
    "    # Check if the request was successful\n",
    "    if response.status_code == 200:\n",
    "        # Write the content of the response to a file\n",
    "        with open(file_name, 'wb') as file:\n",
    "            file.write(response.content)\n",
    "        print(f\"Image successfully downloaded as {file_name}\")\n",
    "    else:\n",
    "        print(\"Failed to download image. Status code:\", response.status_code)\n",
    "\n",
    "# Provide the image URL\n",
    "image_url = input(\"Enter the image URL \")\n",
    "\n",
    "# Call the function to download the image\n",
    "download_image(image_url)\n"
   ]
  },
  {
   "cell_type": "code",
   "execution_count": null,
   "id": "3cd4953f-a56a-4c6a-a0b3-d0c3d9f4cc86",
   "metadata": {},
   "outputs": [],
   "source": []
  }
 ],
 "metadata": {
  "kernelspec": {
   "display_name": "Python 3 (ipykernel)",
   "language": "python",
   "name": "python3"
  },
  "language_info": {
   "codemirror_mode": {
    "name": "ipython",
    "version": 3
   },
   "file_extension": ".py",
   "mimetype": "text/x-python",
   "name": "python",
   "nbconvert_exporter": "python",
   "pygments_lexer": "ipython3",
   "version": "3.11.7"
  }
 },
 "nbformat": 4,
 "nbformat_minor": 5
}
